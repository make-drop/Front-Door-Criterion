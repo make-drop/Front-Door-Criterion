{
  "nbformat": 4,
  "nbformat_minor": 0,
  "metadata": {
    "colab": {
      "name": "Front Door Criterion.ipynb",
      "provenance": [],
      "collapsed_sections": []
    },
    "kernelspec": {
      "name": "python3",
      "display_name": "Python 3"
    },
    "language_info": {
      "name": "python"
    }
  },
  "cells": [
    {
      "cell_type": "markdown",
      "source": [
        "# Implementation of the front door criterion with usage examples"
      ],
      "metadata": {
        "id": "kcYv-Qu7V1BG"
      }
    },
    {
      "cell_type": "markdown",
      "source": [
        "First we install and import some useful Python libraries"
      ],
      "metadata": {
        "id": "GsB1K4t9WJqR"
      }
    },
    {
      "cell_type": "code",
      "execution_count": null,
      "metadata": {
        "id": "PLmzwQAoLtcU"
      },
      "outputs": [],
      "source": [
        "%%capture\n",
        "!pip install networkx numpy pandas statsmodels"
      ]
    },
    {
      "cell_type": "code",
      "source": [
        "import networkx as nx\n",
        "import numpy as np\n",
        "import pandas as pd\n",
        "import statsmodels.api as sm\n",
        "from typing import Set, List\n",
        "from itertools import chain, combinations"
      ],
      "metadata": {
        "id": "FXeUE1C9V0f_",
        "colab": {
          "base_uri": "https://localhost:8080/"
        },
        "outputId": "7bcff39e-64cc-4931-d046-789c69f47220"
      },
      "execution_count": null,
      "outputs": [
        {
          "output_type": "stream",
          "name": "stderr",
          "text": [
            "/usr/local/lib/python3.7/dist-packages/statsmodels/tools/_testing.py:19: FutureWarning: pandas.util.testing is deprecated. Use the functions in the public API at pandas.testing instead.\n",
            "  import pandas.util.testing as tm\n"
          ]
        }
      ]
    },
    {
      "cell_type": "markdown",
      "source": [
        "We define a function to compute the augmented causal graph, namely, given a causal graph and a variable, we remove all its outgoing edges"
      ],
      "metadata": {
        "id": "FxYKgQD1Wa3e"
      }
    },
    {
      "cell_type": "code",
      "source": [
        "def augmented_graph(graph: nx.DiGraph, x: Set[str]):\n",
        "    g_copy = graph.copy()\n",
        "    for _X in x:\n",
        "        for _L in {*g_copy.successors(_X)}:\n",
        "            g_copy.remove_edge(_X, _L)\n",
        "    return g_copy"
      ],
      "metadata": {
        "id": "hKFh62t5XGVF"
      },
      "execution_count": null,
      "outputs": []
    },
    {
      "cell_type": "markdown",
      "source": [
        "We define a function that checks if there is a backdoor path in the augmented causal graph between two variables by conditioning on a adjustment set"
      ],
      "metadata": {
        "id": "UQTrZD7XXRXu"
      }
    },
    {
      "cell_type": "code",
      "source": [
        "def has_backdoor_paths(graph: nx.DiGraph, x: Set[str], y: Set[str], adjustment_set: Set[str]) -> bool:\n",
        "    if x & y or x & adjustment_set or y & adjustment_set:\n",
        "        raise Exception(\"X, Y and Z have to be disjointed.\")\n",
        "    graph_augmented = augmented_graph(graph, x)\n",
        "    return not nx.d_separated(graph_augmented, x, y, adjustment_set)"
      ],
      "metadata": {
        "id": "dVUcqyzGXocb"
      },
      "execution_count": null,
      "outputs": []
    },
    {
      "cell_type": "markdown",
      "source": [
        "We define a function that checks that an adjustment set intercepts all direct paths between two variables"
      ],
      "metadata": {
        "id": "TTF-sQUeZYSO"
      }
    },
    {
      "cell_type": "code",
      "source": [
        "def is_interceptor(graph: nx.DiGraph, x: str, y: str, adjustment_set: Set[str]) -> bool:\n",
        "    g_copy = graph.copy()\n",
        "    for _M in adjustment_set:\n",
        "        g_copy.remove_node(_M)\n",
        "    return not nx.has_path(g_copy, x, y)"
      ],
      "metadata": {
        "id": "9SBAcvJ-ZY_b"
      },
      "execution_count": null,
      "outputs": []
    },
    {
      "cell_type": "markdown",
      "source": [
        "We compose the above functions to check that an adjustment set meets the Front Door Criterion"
      ],
      "metadata": {
        "id": "qUfpQtEaZgeJ"
      }
    },
    {
      "cell_type": "code",
      "source": [
        "def is_front_door_adjustment_set(graph: nx.DiGraph, x: str, y: str, adjustment_set: Set[str]) -> bool:\n",
        "    # the adjustment set has to be descendant of X\n",
        "    if adjustment_set & nx.ancestors(graph, x):\n",
        "        return False\n",
        "    # checks if the adjustment set intercepts all paths between X and Y\n",
        "    if not is_interceptor(graph, x, y, adjustment_set):\n",
        "        return False\n",
        "    # check that from X to the adjustment set there are no backdoor paths\n",
        "    if has_backdoor_paths(graph, {x}, adjustment_set, set()):\n",
        "        return False\n",
        "    # check that from the adjustment set to Y given X there are no backdoor paths\n",
        "    return not has_backdoor_paths(graph.copy(), adjustment_set, {y}, {x})"
      ],
      "metadata": {
        "id": "gUoqafNMaF6z"
      },
      "execution_count": null,
      "outputs": []
    },
    {
      "cell_type": "markdown",
      "source": [
        "Given a graph, a treatment variable, and an outcome variable, we define a function to compute what is the adjustment set that satisfies the Front Door Criterion. In order to accomplish this task, we use the power set of the descendants of the treatment variable (excluding the outcome variable)"
      ],
      "metadata": {
        "id": "8xmwtMarbByA"
      }
    },
    {
      "cell_type": "code",
      "source": [
        "def find_front_door_adjustment_set(graph: nx.DiGraph, x: str, y: str) -> List:\n",
        "    # we consider only the power set of the descendants of x\n",
        "    descendants_of_x = nx.descendants(graph, x)\n",
        "    # we remove Y from the descendant of X\n",
        "    descendants_of_x.remove(y)\n",
        "    power_set_of_descendants_of_x = chain.from_iterable(\n",
        "        combinations(descendants_of_x, r) for r in range(len(descendants_of_x) + 1))\n",
        "    # we order the power set according to cardinality\n",
        "    power_set_of_descendants_of_x = sorted(power_set_of_descendants_of_x, key=len)\n",
        "    # we look for the smallest set that meets the front door criterion\n",
        "    i = 0\n",
        "    found = False\n",
        "    adjustment_set = set()\n",
        "    while not found and i < len(power_set_of_descendants_of_x):\n",
        "        if is_front_door_adjustment_set(graph, x, y, set(power_set_of_descendants_of_x[i])):\n",
        "            found = True\n",
        "            adjustment_set = set(power_set_of_descendants_of_x[i])\n",
        "        i += 1\n",
        "    return [adjustment_set, found]"
      ],
      "metadata": {
        "id": "FZUKDgskbP6i"
      },
      "execution_count": null,
      "outputs": []
    },
    {
      "cell_type": "markdown",
      "source": [
        "We define a linear regression as a prediction model"
      ],
      "metadata": {
        "id": "jxphOnqhdHQG"
      }
    },
    {
      "cell_type": "code",
      "source": [
        "def linear_model(_data: pd.DataFrame, x: str, y: str, adjustment_set: Set[str]):\n",
        "    formula = f\"{y} ~ {x}\"\n",
        "    if len(adjustment_set) != 0:\n",
        "        formula += \"+\" + \"+\".join(adjustment_set)\n",
        "    estimator = sm.OLS.from_formula(formula, _data).fit()\n",
        "    Y1 = estimator.predict(_data.assign(**{x: 1}))\n",
        "    Y0 = estimator.predict(_data.assign(**{x: 0}))\n",
        "    return np.mean(Y1 - Y0)"
      ],
      "metadata": {
        "id": "9UACuWMSdGX8"
      },
      "execution_count": null,
      "outputs": []
    },
    {
      "cell_type": "markdown",
      "source": [
        "We use the linear regression model and the functions defined above to find the adjustment set and compute the average causal effect (ACE)"
      ],
      "metadata": {
        "id": "6KKqry0ZdhIq"
      }
    },
    {
      "cell_type": "code",
      "source": [
        "def compute_causal_effect_with_front_door_criterion(_data: pd.DataFrame, graph: nx.DiGraph, x: str, y: str):\n",
        "    adjustment_set, found = find_front_door_adjustment_set(graph, x, y)\n",
        "    if found:\n",
        "        print(\"adjustment set found: \", adjustment_set)\n",
        "        _effect = np.zeros(len(adjustment_set))\n",
        "        i = 0\n",
        "        # We compute for each variable K in the adjustment set the effect from X to Y\n",
        "        for k in adjustment_set:\n",
        "            _effect[i] = linear_model(_data, x=x, y=k, adjustment_set=set()) * \\\n",
        "                         linear_model(_data, x=k, y=y, adjustment_set={x})\n",
        "            i = i + 1\n",
        "        # The estimated effects for the different paths are summed up\n",
        "        return np.sum(_effect)\n",
        "    else:\n",
        "        raise Exception(\"No adjustment set found.\")"
      ],
      "metadata": {
        "id": "h1TpYIl3eBVJ"
      },
      "execution_count": null,
      "outputs": []
    },
    {
      "cell_type": "markdown",
      "source": [
        "# TESTS"
      ],
      "metadata": {
        "id": "WDrWmdUUeW1Q"
      }
    },
    {
      "cell_type": "markdown",
      "source": [
        "## Test 1\n",
        "*Exogenous variables:*  \n",
        "U_i ∼ $N(0, 1)$  \n",
        "Z_i ∼ $U(0, 1)$  \n",
        "e_X_i ∼ $N(0, 1)$   \n",
        "e_M_i ∼ $N(0, 1)$  \n",
        "e_Y_i ∼ $N(0, 1)$  \n",
        "*Endogenous variables:*  \n",
        "X_i = $0.5$ $\\times$ U_i $+$ e_X_i  \n",
        "M_i = Z_i $\\times$ X_i $+$ e_M_i  \n",
        "Y_i = $0.5$ $\\times$ M_i + $0.5$ $\\times$ U_i + e_Y_i  \n",
        "  \n",
        "$ACE = 0.25$\n"
      ],
      "metadata": {
        "id": "tD8bfyube-70"
      }
    },
    {
      "cell_type": "code",
      "source": [
        "G = nx.DiGraph()\n",
        "E_U = [(\"e_Y_i\", \"Y_i\"), (\"e_M_i\", \"M_i\"), (\"e_X_i\", \"X_i\")]\n",
        "E_V = [(\"U_i\", \"Y_i\"), (\"U_i\", \"X_i\"), (\"M_i\", \"Y_i\"), (\"X_i\", \"M_i\")]\n",
        "G.add_edges_from(E_U + E_V)\n",
        "pos = nx.spectral_layout(G)\n",
        "_ = nx.draw_networkx_labels(G, pos)\n",
        "sty = {\"min_source_margin\": 12, \"min_target_margin\": 12}\n",
        "_ = nx.draw_networkx_edges(G, pos, E_U, style=\"dashed\", **sty)\n",
        "_ = nx.draw_networkx_edges(G, pos, E_V, style=\"solid\", **sty)"
      ],
      "metadata": {
        "colab": {
          "base_uri": "https://localhost:8080/",
          "height": 248
        },
        "id": "HfNUIAfLekuQ",
        "outputId": "d0d134d2-d77c-416b-f0f2-70cac68a07b0"
      },
      "execution_count": null,
      "outputs": [
        {
          "output_type": "display_data",
          "data": {
            "image/png": "[encoded data removed]",
            "text/plain": [
              "<Figure size 432x288 with 1 Axes>"
            ]
          },
          "metadata": {}
        }
      ]
    },
    {
      "cell_type": "code",
      "source": [
        "def sample_data_1(size: int = int(1e6), seed: int = 31):\n",
        "    np.random.seed(seed)\n",
        "    U_i = np.random.normal(0, 1, size)\n",
        "    Z_i = np.random.uniform(0, 1, size)\n",
        "    e_X_i = np.random.normal(0, 1, size)\n",
        "    e_M_i = np.random.normal(0, 1, size)\n",
        "    e_Y_i = np.random.normal(0, 1, size)\n",
        "    X_i = 0.5 * U_i + e_X_i\n",
        "    M_i = Z_i * X_i + e_M_i\n",
        "    Y_i = 0.5 * M_i + 0.5 * U_i + e_Y_i\n",
        "    return pd.DataFrame(\n",
        "        {\"X_i\": X_i, \"M_i\": M_i, \"Y_i\": Y_i, \"U_i\": U_i, \"Z_i\": Z_i, \"e_X_i\": e_X_i, \"e_M_i\": e_M_i, \"e_Y_i\": e_Y_i})"
      ],
      "metadata": {
        "id": "TCNpBdsDelmw"
      },
      "execution_count": null,
      "outputs": []
    },
    {
      "cell_type": "code",
      "source": [
        "data = sample_data_1(size=100000)\n",
        "data.describe()"
      ],
      "metadata": {
        "colab": {
          "base_uri": "https://localhost:8080/",
          "height": 300
        },
        "id": "waix_wWfeocO",
        "outputId": "3809b4aa-12f4-4138-bfd7-3ea2275576bf"
      },
      "execution_count": null,
      "outputs": [
        {
          "output_type": "execute_result",
          "data": {
            "text/html": [
              "\n",
              "  <div id=\"df-809c94e5-49be-4d20-bc40-ed631e6e7303\">\n",
              "    <div class=\"colab-df-container\">\n",
              "      <div>\n",
              "<style scoped>\n",
              "    .dataframe tbody tr th:only-of-type {\n",
              "        vertical-align: middle;\n",
              "    }\n",
              "\n",
              "    .dataframe tbody tr th {\n",
              "        vertical-align: top;\n",
              "    }\n",
              "\n",
              "    .dataframe thead th {\n",
              "        text-align: right;\n",
              "    }\n",
              "</style>\n",
              "<table border=\"1\" class=\"dataframe\">\n",
              "  <thead>\n",
              "    <tr style=\"text-align: right;\">\n",
              "      <th></th>\n",
              "      <th>X_i</th>\n",
              "      <th>M_i</th>\n",
              "      <th>Y_i</th>\n",
              "      <th>U_i</th>\n",
              "      <th>Z_i</th>\n",
              "      <th>e_X_i</th>\n",
              "      <th>e_M_i</th>\n",
              "      <th>e_Y_i</th>\n",
              "    </tr>\n",
              "  </thead>\n",
              "  <tbody>\n",
              "    <tr>\n",
              "      <th>count</th>\n",
              "      <td>100000.000000</td>\n",
              "      <td>100000.000000</td>\n",
              "      <td>100000.000000</td>\n",
              "      <td>100000.000000</td>\n",
              "      <td>100000.000000</td>\n",
              "      <td>100000.000000</td>\n",
              "      <td>100000.000000</td>\n",
              "      <td>100000.000000</td>\n",
              "    </tr>\n",
              "    <tr>\n",
              "      <th>mean</th>\n",
              "      <td>0.001383</td>\n",
              "      <td>0.000353</td>\n",
              "      <td>0.004723</td>\n",
              "      <td>0.004124</td>\n",
              "      <td>0.498521</td>\n",
              "      <td>-0.000680</td>\n",
              "      <td>-0.001547</td>\n",
              "      <td>0.002484</td>\n",
              "    </tr>\n",
              "    <tr>\n",
              "      <th>std</th>\n",
              "      <td>1.116569</td>\n",
              "      <td>1.186440</td>\n",
              "      <td>1.315898</td>\n",
              "      <td>1.000207</td>\n",
              "      <td>0.288103</td>\n",
              "      <td>0.997453</td>\n",
              "      <td>0.996324</td>\n",
              "      <td>1.000675</td>\n",
              "    </tr>\n",
              "    <tr>\n",
              "      <th>min</th>\n",
              "      <td>-4.836180</td>\n",
              "      <td>-5.511756</td>\n",
              "      <td>-5.705977</td>\n",
              "      <td>-4.403123</td>\n",
              "      <td>0.000011</td>\n",
              "      <td>-4.765363</td>\n",
              "      <td>-4.033464</td>\n",
              "      <td>-4.086344</td>\n",
              "    </tr>\n",
              "    <tr>\n",
              "      <th>25%</th>\n",
              "      <td>-0.750513</td>\n",
              "      <td>-0.782182</td>\n",
              "      <td>-0.879063</td>\n",
              "      <td>-0.675004</td>\n",
              "      <td>0.249577</td>\n",
              "      <td>-0.675101</td>\n",
              "      <td>-0.677340</td>\n",
              "      <td>-0.676014</td>\n",
              "    </tr>\n",
              "    <tr>\n",
              "      <th>50%</th>\n",
              "      <td>0.002238</td>\n",
              "      <td>0.002609</td>\n",
              "      <td>0.010672</td>\n",
              "      <td>0.004771</td>\n",
              "      <td>0.497169</td>\n",
              "      <td>-0.000424</td>\n",
              "      <td>0.001906</td>\n",
              "      <td>0.002782</td>\n",
              "    </tr>\n",
              "    <tr>\n",
              "      <th>75%</th>\n",
              "      <td>0.754918</td>\n",
              "      <td>0.783677</td>\n",
              "      <td>0.889836</td>\n",
              "      <td>0.683239</td>\n",
              "      <td>0.746675</td>\n",
              "      <td>0.673617</td>\n",
              "      <td>0.668666</td>\n",
              "      <td>0.678988</td>\n",
              "    </tr>\n",
              "    <tr>\n",
              "      <th>max</th>\n",
              "      <td>4.595810</td>\n",
              "      <td>5.726765</td>\n",
              "      <td>5.956485</td>\n",
              "      <td>4.445709</td>\n",
              "      <td>0.999998</td>\n",
              "      <td>4.288078</td>\n",
              "      <td>4.136374</td>\n",
              "      <td>4.023876</td>\n",
              "    </tr>\n",
              "  </tbody>\n",
              "</table>\n",
              "</div>\n",
              "      <button class=\"colab-df-convert\" onclick=\"convertToInteractive('df-809c94e5-49be-4d20-bc40-ed631e6e7303')\"\n",
              "              title=\"Convert this dataframe to an interactive table.\"\n",
              "              style=\"display:none;\">\n",
              "        \n",
              "  <svg xmlns=\"http://www.w3.org/2000/svg\" height=\"24px\"viewBox=\"0 0 24 24\"\n",
              "       width=\"24px\">\n",
              "    <path d=\"M0 0h24v24H0V0z\" fill=\"none\"/>\n",
              "    <path d=\"M18.56 5.44l.94 2.06.94-2.06 2.06-.94-2.06-.94-.94-2.06-.94 2.06-2.06.94zm-11 1L8.5 8.5l.94-2.06 2.06-.94-2.06-.94L8.5 2.5l-.94 2.06-2.06.94zm10 10l.94 2.06.94-2.06 2.06-.94-2.06-.94-.94-2.06-.94 2.06-2.06.94z\"/><path d=\"M17.41 7.96l-1.37-1.37c-.4-.4-.92-.59-1.43-.59-.52 0-1.04.2-1.43.59L10.3 9.45l-7.72 7.72c-.78.78-.78 2.05 0 2.83L4 21.41c.39.39.9.59 1.41.59.51 0 1.02-.2 1.41-.59l7.78-7.78 2.81-2.81c.8-.78.8-2.07 0-2.86zM5.41 20L4 18.59l7.72-7.72 1.47 1.35L5.41 20z\"/>\n",
              "  </svg>\n",
              "      </button>\n",
              "      \n",
              "  <style>\n",
              "    .colab-df-container {\n",
              "      display:flex;\n",
              "      flex-wrap:wrap;\n",
              "      gap: 12px;\n",
              "    }\n",
              "\n",
              "    .colab-df-convert {\n",
              "      background-color: #E8F0FE;\n",
              "      border: none;\n",
              "      border-radius: 50%;\n",
              "      cursor: pointer;\n",
              "      display: none;\n",
              "      fill: #1967D2;\n",
              "      height: 32px;\n",
              "      padding: 0 0 0 0;\n",
              "      width: 32px;\n",
              "    }\n",
              "\n",
              "    .colab-df-convert:hover {\n",
              "      background-color: #E2EBFA;\n",
              "      box-shadow: 0px 1px 2px rgba(60, 64, 67, 0.3), 0px 1px 3px 1px rgba(60, 64, 67, 0.15);\n",
              "      fill: #174EA6;\n",
              "    }\n",
              "\n",
              "    [theme=dark] .colab-df-convert {\n",
              "      background-color: #3B4455;\n",
              "      fill: #D2E3FC;\n",
              "    }\n",
              "\n",
              "    [theme=dark] .colab-df-convert:hover {\n",
              "      background-color: #434B5C;\n",
              "      box-shadow: 0px 1px 3px 1px rgba(0, 0, 0, 0.15);\n",
              "      filter: drop-shadow(0px 1px 2px rgba(0, 0, 0, 0.3));\n",
              "      fill: #FFFFFF;\n",
              "    }\n",
              "  </style>\n",
              "\n",
              "      <script>\n",
              "        const buttonEl =\n",
              "          document.querySelector('#df-809c94e5-49be-4d20-bc40-ed631e6e7303 button.colab-df-convert');\n",
              "        buttonEl.style.display =\n",
              "          google.colab.kernel.accessAllowed ? 'block' : 'none';\n",
              "\n",
              "        async function convertToInteractive(key) {\n",
              "          const element = document.querySelector('#df-809c94e5-49be-4d20-bc40-ed631e6e7303');\n",
              "          const dataTable =\n",
              "            await google.colab.kernel.invokeFunction('convertToInteractive',\n",
              "                                                     [key], {});\n",
              "          if (!dataTable) return;\n",
              "\n",
              "          const docLinkHtml = 'Like what you see? Visit the ' +\n",
              "            '<a target=\"_blank\" href=https://colab.research.google.com/notebooks/data_table.ipynb>data table notebook</a>'\n",
              "            + ' to learn more about interactive tables.';\n",
              "          element.innerHTML = '';\n",
              "          dataTable['output_type'] = 'display_data';\n",
              "          await google.colab.output.renderOutput(dataTable, element);\n",
              "          const docLink = document.createElement('div');\n",
              "          docLink.innerHTML = docLinkHtml;\n",
              "          element.appendChild(docLink);\n",
              "        }\n",
              "      </script>\n",
              "    </div>\n",
              "  </div>\n",
              "  "
            ],
            "text/plain": [
              "                 X_i            M_i  ...          e_M_i          e_Y_i\n",
              "count  100000.000000  100000.000000  ...  100000.000000  100000.000000\n",
              "mean        0.001383       0.000353  ...      -0.001547       0.002484\n",
              "std         1.116569       1.186440  ...       0.996324       1.000675\n",
              "min        -4.836180      -5.511756  ...      -4.033464      -4.086344\n",
              "25%        -0.750513      -0.782182  ...      -0.677340      -0.676014\n",
              "50%         0.002238       0.002609  ...       0.001906       0.002782\n",
              "75%         0.754918       0.783677  ...       0.668666       0.678988\n",
              "max         4.595810       5.726765  ...       4.136374       4.023876\n",
              "\n",
              "[8 rows x 8 columns]"
            ]
          },
          "metadata": {},
          "execution_count": 12
        }
      ]
    },
    {
      "cell_type": "code",
      "source": [
        "true_ace = 0.25\n",
        "\n",
        "effect = compute_causal_effect_with_front_door_criterion(data, G, \"X_i\", \"Y_i\")\n",
        "\n",
        "print(f\"Estimated ACE: {effect:.3}, Real ACE: {true_ace:.3}, Relative Error: {(np.abs(((effect - true_ace) / true_ace) * 100)):.4}%\")"
      ],
      "metadata": {
        "colab": {
          "base_uri": "https://localhost:8080/"
        },
        "id": "Ya-YfYZYe0XB",
        "outputId": "73bddf53-07e9-4330-c533-c948d5a3dbcc"
      },
      "execution_count": null,
      "outputs": [
        {
          "output_type": "stream",
          "name": "stdout",
          "text": [
            "adjustment set found:  {'M_i'}\n",
            "Estimated ACE: 0.25, Real ACE: 0.25, Relative Error: 0.1597%\n"
          ]
        }
      ]
    },
    {
      "cell_type": "markdown",
      "source": [
        "## TEST 2  \n",
        "*Exogenous variables:*  \n",
        "U_i ∼ $N(0, 1)$  \n",
        "Z_1_i ∼ $U(0, 1)$  \n",
        "Z_2_i ∼ $U(0, 1)$  \n",
        "e_X_i ∼ $N(0, 1)$   \n",
        "e_M_1_i ∼ $N(0, 1)$  \n",
        "e_M_2_i ∼ $N(0, 1)$  \n",
        "e_Y_i ∼ $N(0, 1)$  \n",
        "*Endogenous variables:*  \n",
        "X_i = $0.5$ $\\times$ U_i $+$ e_X_i  \n",
        "M_1_i = Z_1_i $\\times$ X_i $+$ e_M_1_i  \n",
        "M_2_i = Z_2_i $\\times$ X_i $+$ e_M_2_i  \n",
        "Y_i = $0.5$ $\\times$ M_1_i $+$ $0.5$ $\\times$ M_2_i $+$ $0.5$ $\\times$ U_i $+$ e_Y_i  \n",
        "  \n",
        "$ACE = 0.50$"
      ],
      "metadata": {
        "id": "BTmMRJ9JhOJI"
      }
    },
    {
      "cell_type": "code",
      "source": [
        "G = nx.DiGraph()\n",
        "E_U = [(\"e_Y_i\", \"Y_i\"), (\"e_M_1\", \"M_1\"), (\"e_M_2\", \"M_2\"), (\"e_X_i\", \"X_i\")]\n",
        "E_V = [(\"U_i\", \"Y_i\"), (\"U_i\", \"X_i\"), (\"M_1\", \"Y_i\"), (\"M_2\", \"Y_i\"), (\"X_i\", \"M_1\"), (\"X_i\", \"M_2\")]\n",
        "G.add_edges_from(E_U + E_V)\n",
        "pos = nx.spectral_layout(G)\n",
        "_ = nx.draw_networkx_labels(G, pos)\n",
        "sty = {\"min_source_margin\": 12, \"min_target_margin\": 12}\n",
        "_ = nx.draw_networkx_edges(G, pos, E_U, style=\"dashed\", **sty)\n",
        "_ = nx.draw_networkx_edges(G, pos, E_V, style=\"solid\", **sty)"
      ],
      "metadata": {
        "colab": {
          "base_uri": "https://localhost:8080/",
          "height": 248
        },
        "id": "dbfnPsPkhnc1",
        "outputId": "6db22d4f-3ad6-44fc-b4ba-69062a1877d0"
      },
      "execution_count": null,
      "outputs": [
        {
          "output_type": "display_data",
          "data": {
            "image/png": "[encoded data removed]",
            "text/plain": [
              "<Figure size 432x288 with 1 Axes>"
            ]
          },
          "metadata": {}
        }
      ]
    },
    {
      "cell_type": "code",
      "source": [
        "def sample_data_2(size: int = int(1e6), seed: int = 31):\n",
        "    np.random.seed(seed)\n",
        "    U_i = np.random.normal(0, 1, size)\n",
        "    Z_1_i = np.random.uniform(0, 1, size)\n",
        "    Z_2_i = np.random.uniform(0, 1, size)\n",
        "    e_X_i = np.random.normal(0, 1, size)\n",
        "    e_M_1 = np.random.normal(0, 1, size)\n",
        "    e_M_2 = np.random.normal(0, 1, size)\n",
        "    e_Y_i = np.random.normal(0, 1, size)\n",
        "    X_i = 0.5 * U_i + e_X_i\n",
        "    M_1 = Z_1_i * X_i + e_M_1\n",
        "    M_2 = Z_2_i * X_i + e_M_2\n",
        "    Y_i = 0.5 * M_1 + 0.5 * M_2 + 0.5 * U_i + e_Y_i\n",
        "    return pd.DataFrame(\n",
        "        {\"X_i\": X_i, \"M_1\": M_1, \"M_2\": M_2, \"Y_i\": Y_i, \"U_i\": U_i, \"Z_1_i\": Z_1_i, \"Z_2_i\": Z_2_i, \"e_X_i\": e_X_i, \"e_M_1\": e_M_1, \"e_M_2\": e_M_2,\"e_Y_i\": e_Y_i})"
      ],
      "metadata": {
        "id": "MaEr7cpOjsDI"
      },
      "execution_count": null,
      "outputs": []
    },
    {
      "cell_type": "code",
      "source": [
        "data = sample_data_2(size=100000)\n",
        "data.describe()"
      ],
      "metadata": {
        "colab": {
          "base_uri": "https://localhost:8080/",
          "height": 300
        },
        "id": "0sW9CbYOoknk",
        "outputId": "c942eae1-44cf-4602-be08-96cf8d75dbf6"
      },
      "execution_count": null,
      "outputs": [
        {
          "output_type": "execute_result",
          "data": {
            "text/html": [
              "\n",
              "  <div id=\"df-5cc382cb-f7fe-4cf5-83ba-0f655df798a4\">\n",
              "    <div class=\"colab-df-container\">\n",
              "      <div>\n",
              "<style scoped>\n",
              "    .dataframe tbody tr th:only-of-type {\n",
              "        vertical-align: middle;\n",
              "    }\n",
              "\n",
              "    .dataframe tbody tr th {\n",
              "        vertical-align: top;\n",
              "    }\n",
              "\n",
              "    .dataframe thead th {\n",
              "        text-align: right;\n",
              "    }\n",
              "</style>\n",
              "<table border=\"1\" class=\"dataframe\">\n",
              "  <thead>\n",
              "    <tr style=\"text-align: right;\">\n",
              "      <th></th>\n",
              "      <th>X_i</th>\n",
              "      <th>M_1</th>\n",
              "      <th>M_2</th>\n",
              "      <th>Y_i</th>\n",
              "      <th>U_i</th>\n",
              "      <th>Z_1_i</th>\n",
              "      <th>Z_2_i</th>\n",
              "      <th>e_X_i</th>\n",
              "      <th>e_M_1</th>\n",
              "      <th>e_M_2</th>\n",
              "      <th>e_Y_i</th>\n",
              "    </tr>\n",
              "  </thead>\n",
              "  <tbody>\n",
              "    <tr>\n",
              "      <th>count</th>\n",
              "      <td>100000.000000</td>\n",
              "      <td>100000.000000</td>\n",
              "      <td>100000.000000</td>\n",
              "      <td>100000.000000</td>\n",
              "      <td>100000.000000</td>\n",
              "      <td>100000.000000</td>\n",
              "      <td>100000.000000</td>\n",
              "      <td>100000.000000</td>\n",
              "      <td>100000.000000</td>\n",
              "      <td>100000.000000</td>\n",
              "      <td>100000.000000</td>\n",
              "    </tr>\n",
              "    <tr>\n",
              "      <th>mean</th>\n",
              "      <td>0.001523</td>\n",
              "      <td>0.003372</td>\n",
              "      <td>-0.004229</td>\n",
              "      <td>0.003002</td>\n",
              "      <td>0.004124</td>\n",
              "      <td>0.498521</td>\n",
              "      <td>0.498737</td>\n",
              "      <td>-0.000539</td>\n",
              "      <td>0.003015</td>\n",
              "      <td>-0.005354</td>\n",
              "      <td>0.001368</td>\n",
              "    </tr>\n",
              "    <tr>\n",
              "      <th>std</th>\n",
              "      <td>1.116959</td>\n",
              "      <td>1.193685</td>\n",
              "      <td>1.185363</td>\n",
              "      <td>1.539453</td>\n",
              "      <td>1.000207</td>\n",
              "      <td>0.288103</td>\n",
              "      <td>0.288317</td>\n",
              "      <td>0.997395</td>\n",
              "      <td>0.999637</td>\n",
              "      <td>0.997478</td>\n",
              "      <td>0.997490</td>\n",
              "    </tr>\n",
              "    <tr>\n",
              "      <th>min</th>\n",
              "      <td>-5.023345</td>\n",
              "      <td>-6.065012</td>\n",
              "      <td>-5.526938</td>\n",
              "      <td>-7.370759</td>\n",
              "      <td>-4.403123</td>\n",
              "      <td>0.000011</td>\n",
              "      <td>0.000063</td>\n",
              "      <td>-4.765363</td>\n",
              "      <td>-4.086344</td>\n",
              "      <td>-4.278671</td>\n",
              "      <td>-3.974191</td>\n",
              "    </tr>\n",
              "    <tr>\n",
              "      <th>25%</th>\n",
              "      <td>-0.754404</td>\n",
              "      <td>-0.785283</td>\n",
              "      <td>-0.781397</td>\n",
              "      <td>-1.023012</td>\n",
              "      <td>-0.675004</td>\n",
              "      <td>0.249577</td>\n",
              "      <td>0.248844</td>\n",
              "      <td>-0.676512</td>\n",
              "      <td>-0.674876</td>\n",
              "      <td>-0.674179</td>\n",
              "      <td>-0.670965</td>\n",
              "    </tr>\n",
              "    <tr>\n",
              "      <th>50%</th>\n",
              "      <td>0.003791</td>\n",
              "      <td>0.001936</td>\n",
              "      <td>-0.002604</td>\n",
              "      <td>0.005214</td>\n",
              "      <td>0.004771</td>\n",
              "      <td>0.497169</td>\n",
              "      <td>0.499935</td>\n",
              "      <td>0.003182</td>\n",
              "      <td>0.000417</td>\n",
              "      <td>-0.003598</td>\n",
              "      <td>0.004538</td>\n",
              "    </tr>\n",
              "    <tr>\n",
              "      <th>75%</th>\n",
              "      <td>0.759114</td>\n",
              "      <td>0.796426</td>\n",
              "      <td>0.773640</td>\n",
              "      <td>1.031438</td>\n",
              "      <td>0.683239</td>\n",
              "      <td>0.746675</td>\n",
              "      <td>0.748079</td>\n",
              "      <td>0.673993</td>\n",
              "      <td>0.677311</td>\n",
              "      <td>0.662947</td>\n",
              "      <td>0.673895</td>\n",
              "    </tr>\n",
              "    <tr>\n",
              "      <th>max</th>\n",
              "      <td>4.592644</td>\n",
              "      <td>5.583888</td>\n",
              "      <td>5.916629</td>\n",
              "      <td>7.739766</td>\n",
              "      <td>4.445709</td>\n",
              "      <td>0.999998</td>\n",
              "      <td>0.999995</td>\n",
              "      <td>4.136374</td>\n",
              "      <td>4.025357</td>\n",
              "      <td>4.471917</td>\n",
              "      <td>4.108962</td>\n",
              "    </tr>\n",
              "  </tbody>\n",
              "</table>\n",
              "</div>\n",
              "      <button class=\"colab-df-convert\" onclick=\"convertToInteractive('df-5cc382cb-f7fe-4cf5-83ba-0f655df798a4')\"\n",
              "              title=\"Convert this dataframe to an interactive table.\"\n",
              "              style=\"display:none;\">\n",
              "        \n",
              "  <svg xmlns=\"http://www.w3.org/2000/svg\" height=\"24px\"viewBox=\"0 0 24 24\"\n",
              "       width=\"24px\">\n",
              "    <path d=\"M0 0h24v24H0V0z\" fill=\"none\"/>\n",
              "    <path d=\"M18.56 5.44l.94 2.06.94-2.06 2.06-.94-2.06-.94-.94-2.06-.94 2.06-2.06.94zm-11 1L8.5 8.5l.94-2.06 2.06-.94-2.06-.94L8.5 2.5l-.94 2.06-2.06.94zm10 10l.94 2.06.94-2.06 2.06-.94-2.06-.94-.94-2.06-.94 2.06-2.06.94z\"/><path d=\"M17.41 7.96l-1.37-1.37c-.4-.4-.92-.59-1.43-.59-.52 0-1.04.2-1.43.59L10.3 9.45l-7.72 7.72c-.78.78-.78 2.05 0 2.83L4 21.41c.39.39.9.59 1.41.59.51 0 1.02-.2 1.41-.59l7.78-7.78 2.81-2.81c.8-.78.8-2.07 0-2.86zM5.41 20L4 18.59l7.72-7.72 1.47 1.35L5.41 20z\"/>\n",
              "  </svg>\n",
              "      </button>\n",
              "      \n",
              "  <style>\n",
              "    .colab-df-container {\n",
              "      display:flex;\n",
              "      flex-wrap:wrap;\n",
              "      gap: 12px;\n",
              "    }\n",
              "\n",
              "    .colab-df-convert {\n",
              "      background-color: #E8F0FE;\n",
              "      border: none;\n",
              "      border-radius: 50%;\n",
              "      cursor: pointer;\n",
              "      display: none;\n",
              "      fill: #1967D2;\n",
              "      height: 32px;\n",
              "      padding: 0 0 0 0;\n",
              "      width: 32px;\n",
              "    }\n",
              "\n",
              "    .colab-df-convert:hover {\n",
              "      background-color: #E2EBFA;\n",
              "      box-shadow: 0px 1px 2px rgba(60, 64, 67, 0.3), 0px 1px 3px 1px rgba(60, 64, 67, 0.15);\n",
              "      fill: #174EA6;\n",
              "    }\n",
              "\n",
              "    [theme=dark] .colab-df-convert {\n",
              "      background-color: #3B4455;\n",
              "      fill: #D2E3FC;\n",
              "    }\n",
              "\n",
              "    [theme=dark] .colab-df-convert:hover {\n",
              "      background-color: #434B5C;\n",
              "      box-shadow: 0px 1px 3px 1px rgba(0, 0, 0, 0.15);\n",
              "      filter: drop-shadow(0px 1px 2px rgba(0, 0, 0, 0.3));\n",
              "      fill: #FFFFFF;\n",
              "    }\n",
              "  </style>\n",
              "\n",
              "      <script>\n",
              "        const buttonEl =\n",
              "          document.querySelector('#df-5cc382cb-f7fe-4cf5-83ba-0f655df798a4 button.colab-df-convert');\n",
              "        buttonEl.style.display =\n",
              "          google.colab.kernel.accessAllowed ? 'block' : 'none';\n",
              "\n",
              "        async function convertToInteractive(key) {\n",
              "          const element = document.querySelector('#df-5cc382cb-f7fe-4cf5-83ba-0f655df798a4');\n",
              "          const dataTable =\n",
              "            await google.colab.kernel.invokeFunction('convertToInteractive',\n",
              "                                                     [key], {});\n",
              "          if (!dataTable) return;\n",
              "\n",
              "          const docLinkHtml = 'Like what you see? Visit the ' +\n",
              "            '<a target=\"_blank\" href=https://colab.research.google.com/notebooks/data_table.ipynb>data table notebook</a>'\n",
              "            + ' to learn more about interactive tables.';\n",
              "          element.innerHTML = '';\n",
              "          dataTable['output_type'] = 'display_data';\n",
              "          await google.colab.output.renderOutput(dataTable, element);\n",
              "          const docLink = document.createElement('div');\n",
              "          docLink.innerHTML = docLinkHtml;\n",
              "          element.appendChild(docLink);\n",
              "        }\n",
              "      </script>\n",
              "    </div>\n",
              "  </div>\n",
              "  "
            ],
            "text/plain": [
              "                 X_i            M_1  ...          e_M_2          e_Y_i\n",
              "count  100000.000000  100000.000000  ...  100000.000000  100000.000000\n",
              "mean        0.001523       0.003372  ...      -0.005354       0.001368\n",
              "std         1.116959       1.193685  ...       0.997478       0.997490\n",
              "min        -5.023345      -6.065012  ...      -4.278671      -3.974191\n",
              "25%        -0.754404      -0.785283  ...      -0.674179      -0.670965\n",
              "50%         0.003791       0.001936  ...      -0.003598       0.004538\n",
              "75%         0.759114       0.796426  ...       0.662947       0.673895\n",
              "max         4.592644       5.583888  ...       4.471917       4.108962\n",
              "\n",
              "[8 rows x 11 columns]"
            ]
          },
          "metadata": {},
          "execution_count": 16
        }
      ]
    },
    {
      "cell_type": "code",
      "source": [
        "true_ace = 0.50\n",
        "\n",
        "effect = compute_causal_effect_with_front_door_criterion(data, G, \"X_i\", \"Y_i\")\n",
        "\n",
        "print(f\"Estimated ACE: {effect:.3}, Real ACE: {true_ace:.3}, Relative Error: {(np.abs(((effect - true_ace) / true_ace) * 100)):.4}%\")"
      ],
      "metadata": {
        "colab": {
          "base_uri": "https://localhost:8080/"
        },
        "id": "Dqmwd4f5ov1q",
        "outputId": "b832d1e2-a182-426c-ac3a-c82f704ee337"
      },
      "execution_count": null,
      "outputs": [
        {
          "output_type": "stream",
          "name": "stdout",
          "text": [
            "adjustment set found:  {'M_2', 'M_1'}\n",
            "Estimated ACE: 0.504, Real ACE: 0.5, Relative Error: 0.7112%\n"
          ]
        }
      ]
    },
    {
      "cell_type": "markdown",
      "source": [
        "## TEST 3  \n",
        "*Exogenous variables:*  \n",
        "U_i ∼ $N(0, 1)$  \n",
        "Z_1_i ∼ $U(0, 1)$  \n",
        "Z_2_i ∼ $U(0, 1)$  \n",
        "e_X_i ∼ $N(0, 1)$   \n",
        "e_M_1_i ∼ $N(0, 1)$  \n",
        "e_M_2_i ∼ $N(0, 1)$  \n",
        "e_Y_i ∼ $N(0, 1)$  \n",
        "*Endogenous variables:*  \n",
        "X_i = $0.5$ $\\times$ U_i $+$ e_X_i  \n",
        "M_1_i = Z_1_i $\\times$ X_i $+$ e_M_1_i  \n",
        "M_2_i = Z_2_i $\\times$ X_i $+$ e_M_2_i  \n",
        "Y_i = $0.5$ $\\times$ M_1_i $+$ $0.5$ $\\times$ M_2_i $+$ $0.5$ $\\times$ U_i $+$ e_Y_i  \n",
        "  \n",
        "$ACE = 0.125$"
      ],
      "metadata": {
        "id": "YwXW8lzUppZ6"
      }
    },
    {
      "cell_type": "code",
      "source": [
        "G = nx.DiGraph()\n",
        "E_U = [(\"e_Y_i\", \"Y_i\"), (\"e_M_1\", \"M_1\"), (\"e_M_2\", \"M_2\"), (\"e_X_i\", \"X_i\")]\n",
        "E_V = [(\"U_i\", \"Y_i\"), (\"U_i\", \"X_i\"), (\"M_2\", \"Y_i\"), (\"X_i\", \"M_1\"), (\"M_1\", \"M_2\")]\n",
        "G.add_edges_from(E_U + E_V)\n",
        "pos = nx.spectral_layout(G)\n",
        "_ = nx.draw_networkx_labels(G, pos)\n",
        "sty = {\"min_source_margin\": 12, \"min_target_margin\": 12}\n",
        "_ = nx.draw_networkx_edges(G, pos, E_U, style=\"dashed\", **sty)\n",
        "_ = nx.draw_networkx_edges(G, pos, E_V, style=\"solid\", **sty)"
      ],
      "metadata": {
        "colab": {
          "base_uri": "https://localhost:8080/",
          "height": 248
        },
        "outputId": "6f1b377b-42bd-4ef3-9615-d1b7920e3adc",
        "id": "xFxlYHqxppZ8"
      },
      "execution_count": null,
      "outputs": [
        {
          "output_type": "display_data",
          "data": {
            "image/png": "[encoded data removed]",
            "text/plain": [
              "<Figure size 432x288 with 1 Axes>"
            ]
          },
          "metadata": {}
        }
      ]
    },
    {
      "cell_type": "code",
      "source": [
        "def sample_data_3(size: int = int(1e6), seed: int = 31):\n",
        "    np.random.seed(seed)\n",
        "    U_i = np.random.normal(0, 1, size)\n",
        "    Z_1_i = np.random.uniform(0, 1, size)\n",
        "    Z_2_i = np.random.uniform(0, 1, size)\n",
        "    e_X_i = np.random.normal(0, 1, size)\n",
        "    e_M_1 = np.random.normal(0, 1, size)\n",
        "    e_M_2 = np.random.normal(0, 1, size)\n",
        "    e_Y_i = np.random.normal(0, 1, size)\n",
        "    X_i = 0.5 * U_i + e_X_i\n",
        "    M_1 = Z_1_i * X_i + e_M_1\n",
        "    M_2 = Z_2_i * M_1 + e_M_2\n",
        "    Y_i = 0.5 * M_2 + 0.5 * U_i + e_Y_i\n",
        "    return pd.DataFrame(\n",
        "        {\"X_i\": X_i, \"M_1\": M_1, \"M_2\": M_2, \"Y_i\": Y_i, \"U_i\": U_i, \"Z_1_i\": Z_1_i, \"Z_2_i\": Z_2_i, \"e_X_i\": e_X_i, \"e_M_1\": e_M_1, \"e_M_2\": e_M_2,\"e_Y_i\": e_Y_i})"
      ],
      "metadata": {
        "id": "3m9n__tgppZ-"
      },
      "execution_count": null,
      "outputs": []
    },
    {
      "cell_type": "code",
      "source": [
        "data = sample_data_3(size=100000)\n",
        "data.describe()"
      ],
      "metadata": {
        "colab": {
          "base_uri": "https://localhost:8080/",
          "height": 300
        },
        "outputId": "32c04ef6-a691-4dc4-b3d8-dd85d8070c88",
        "id": "cQEPUfR3ppaA"
      },
      "execution_count": null,
      "outputs": [
        {
          "output_type": "execute_result",
          "data": {
            "text/html": [
              "\n",
              "  <div id=\"df-09fe708d-770a-4957-9921-0597048f9cac\">\n",
              "    <div class=\"colab-df-container\">\n",
              "      <div>\n",
              "<style scoped>\n",
              "    .dataframe tbody tr th:only-of-type {\n",
              "        vertical-align: middle;\n",
              "    }\n",
              "\n",
              "    .dataframe tbody tr th {\n",
              "        vertical-align: top;\n",
              "    }\n",
              "\n",
              "    .dataframe thead th {\n",
              "        text-align: right;\n",
              "    }\n",
              "</style>\n",
              "<table border=\"1\" class=\"dataframe\">\n",
              "  <thead>\n",
              "    <tr style=\"text-align: right;\">\n",
              "      <th></th>\n",
              "      <th>X_i</th>\n",
              "      <th>M_1</th>\n",
              "      <th>M_2</th>\n",
              "      <th>Y_i</th>\n",
              "      <th>U_i</th>\n",
              "      <th>Z_1_i</th>\n",
              "      <th>Z_2_i</th>\n",
              "      <th>e_X_i</th>\n",
              "      <th>e_M_1</th>\n",
              "      <th>e_M_2</th>\n",
              "      <th>e_Y_i</th>\n",
              "    </tr>\n",
              "  </thead>\n",
              "  <tbody>\n",
              "    <tr>\n",
              "      <th>count</th>\n",
              "      <td>100000.000000</td>\n",
              "      <td>100000.000000</td>\n",
              "      <td>100000.000000</td>\n",
              "      <td>100000.000000</td>\n",
              "      <td>100000.000000</td>\n",
              "      <td>100000.000000</td>\n",
              "      <td>100000.000000</td>\n",
              "      <td>100000.000000</td>\n",
              "      <td>100000.000000</td>\n",
              "      <td>100000.000000</td>\n",
              "      <td>100000.000000</td>\n",
              "    </tr>\n",
              "    <tr>\n",
              "      <th>mean</th>\n",
              "      <td>0.001523</td>\n",
              "      <td>0.003372</td>\n",
              "      <td>-0.000829</td>\n",
              "      <td>0.003016</td>\n",
              "      <td>0.004124</td>\n",
              "      <td>0.498521</td>\n",
              "      <td>0.498737</td>\n",
              "      <td>-0.000539</td>\n",
              "      <td>0.003015</td>\n",
              "      <td>-0.005354</td>\n",
              "      <td>0.001368</td>\n",
              "    </tr>\n",
              "    <tr>\n",
              "      <th>std</th>\n",
              "      <td>1.116959</td>\n",
              "      <td>1.193685</td>\n",
              "      <td>1.210960</td>\n",
              "      <td>1.296466</td>\n",
              "      <td>1.000207</td>\n",
              "      <td>0.288103</td>\n",
              "      <td>0.288317</td>\n",
              "      <td>0.997395</td>\n",
              "      <td>0.999637</td>\n",
              "      <td>0.997478</td>\n",
              "      <td>0.997490</td>\n",
              "    </tr>\n",
              "    <tr>\n",
              "      <th>min</th>\n",
              "      <td>-5.023345</td>\n",
              "      <td>-6.065012</td>\n",
              "      <td>-6.118590</td>\n",
              "      <td>-6.267251</td>\n",
              "      <td>-4.403123</td>\n",
              "      <td>0.000011</td>\n",
              "      <td>0.000063</td>\n",
              "      <td>-4.765363</td>\n",
              "      <td>-4.086344</td>\n",
              "      <td>-4.278671</td>\n",
              "      <td>-3.974191</td>\n",
              "    </tr>\n",
              "    <tr>\n",
              "      <th>25%</th>\n",
              "      <td>-0.754404</td>\n",
              "      <td>-0.785283</td>\n",
              "      <td>-0.794176</td>\n",
              "      <td>-0.868039</td>\n",
              "      <td>-0.675004</td>\n",
              "      <td>0.249577</td>\n",
              "      <td>0.248844</td>\n",
              "      <td>-0.676512</td>\n",
              "      <td>-0.674876</td>\n",
              "      <td>-0.674179</td>\n",
              "      <td>-0.670965</td>\n",
              "    </tr>\n",
              "    <tr>\n",
              "      <th>50%</th>\n",
              "      <td>0.003791</td>\n",
              "      <td>0.001936</td>\n",
              "      <td>0.002172</td>\n",
              "      <td>0.003874</td>\n",
              "      <td>0.004771</td>\n",
              "      <td>0.497169</td>\n",
              "      <td>0.499935</td>\n",
              "      <td>0.003182</td>\n",
              "      <td>0.000417</td>\n",
              "      <td>-0.003598</td>\n",
              "      <td>0.004538</td>\n",
              "    </tr>\n",
              "    <tr>\n",
              "      <th>75%</th>\n",
              "      <td>0.759114</td>\n",
              "      <td>0.796426</td>\n",
              "      <td>0.788475</td>\n",
              "      <td>0.874441</td>\n",
              "      <td>0.683239</td>\n",
              "      <td>0.746675</td>\n",
              "      <td>0.748079</td>\n",
              "      <td>0.673993</td>\n",
              "      <td>0.677311</td>\n",
              "      <td>0.662947</td>\n",
              "      <td>0.673895</td>\n",
              "    </tr>\n",
              "    <tr>\n",
              "      <th>max</th>\n",
              "      <td>4.592644</td>\n",
              "      <td>5.583888</td>\n",
              "      <td>6.127652</td>\n",
              "      <td>6.339901</td>\n",
              "      <td>4.445709</td>\n",
              "      <td>0.999998</td>\n",
              "      <td>0.999995</td>\n",
              "      <td>4.136374</td>\n",
              "      <td>4.025357</td>\n",
              "      <td>4.471917</td>\n",
              "      <td>4.108962</td>\n",
              "    </tr>\n",
              "  </tbody>\n",
              "</table>\n",
              "</div>\n",
              "      <button class=\"colab-df-convert\" onclick=\"convertToInteractive('df-09fe708d-770a-4957-9921-0597048f9cac')\"\n",
              "              title=\"Convert this dataframe to an interactive table.\"\n",
              "              style=\"display:none;\">\n",
              "        \n",
              "  <svg xmlns=\"http://www.w3.org/2000/svg\" height=\"24px\"viewBox=\"0 0 24 24\"\n",
              "       width=\"24px\">\n",
              "    <path d=\"M0 0h24v24H0V0z\" fill=\"none\"/>\n",
              "    <path d=\"M18.56 5.44l.94 2.06.94-2.06 2.06-.94-2.06-.94-.94-2.06-.94 2.06-2.06.94zm-11 1L8.5 8.5l.94-2.06 2.06-.94-2.06-.94L8.5 2.5l-.94 2.06-2.06.94zm10 10l.94 2.06.94-2.06 2.06-.94-2.06-.94-.94-2.06-.94 2.06-2.06.94z\"/><path d=\"M17.41 7.96l-1.37-1.37c-.4-.4-.92-.59-1.43-.59-.52 0-1.04.2-1.43.59L10.3 9.45l-7.72 7.72c-.78.78-.78 2.05 0 2.83L4 21.41c.39.39.9.59 1.41.59.51 0 1.02-.2 1.41-.59l7.78-7.78 2.81-2.81c.8-.78.8-2.07 0-2.86zM5.41 20L4 18.59l7.72-7.72 1.47 1.35L5.41 20z\"/>\n",
              "  </svg>\n",
              "      </button>\n",
              "      \n",
              "  <style>\n",
              "    .colab-df-container {\n",
              "      display:flex;\n",
              "      flex-wrap:wrap;\n",
              "      gap: 12px;\n",
              "    }\n",
              "\n",
              "    .colab-df-convert {\n",
              "      background-color: #E8F0FE;\n",
              "      border: none;\n",
              "      border-radius: 50%;\n",
              "      cursor: pointer;\n",
              "      display: none;\n",
              "      fill: #1967D2;\n",
              "      height: 32px;\n",
              "      padding: 0 0 0 0;\n",
              "      width: 32px;\n",
              "    }\n",
              "\n",
              "    .colab-df-convert:hover {\n",
              "      background-color: #E2EBFA;\n",
              "      box-shadow: 0px 1px 2px rgba(60, 64, 67, 0.3), 0px 1px 3px 1px rgba(60, 64, 67, 0.15);\n",
              "      fill: #174EA6;\n",
              "    }\n",
              "\n",
              "    [theme=dark] .colab-df-convert {\n",
              "      background-color: #3B4455;\n",
              "      fill: #D2E3FC;\n",
              "    }\n",
              "\n",
              "    [theme=dark] .colab-df-convert:hover {\n",
              "      background-color: #434B5C;\n",
              "      box-shadow: 0px 1px 3px 1px rgba(0, 0, 0, 0.15);\n",
              "      filter: drop-shadow(0px 1px 2px rgba(0, 0, 0, 0.3));\n",
              "      fill: #FFFFFF;\n",
              "    }\n",
              "  </style>\n",
              "\n",
              "      <script>\n",
              "        const buttonEl =\n",
              "          document.querySelector('#df-09fe708d-770a-4957-9921-0597048f9cac button.colab-df-convert');\n",
              "        buttonEl.style.display =\n",
              "          google.colab.kernel.accessAllowed ? 'block' : 'none';\n",
              "\n",
              "        async function convertToInteractive(key) {\n",
              "          const element = document.querySelector('#df-09fe708d-770a-4957-9921-0597048f9cac');\n",
              "          const dataTable =\n",
              "            await google.colab.kernel.invokeFunction('convertToInteractive',\n",
              "                                                     [key], {});\n",
              "          if (!dataTable) return;\n",
              "\n",
              "          const docLinkHtml = 'Like what you see? Visit the ' +\n",
              "            '<a target=\"_blank\" href=https://colab.research.google.com/notebooks/data_table.ipynb>data table notebook</a>'\n",
              "            + ' to learn more about interactive tables.';\n",
              "          element.innerHTML = '';\n",
              "          dataTable['output_type'] = 'display_data';\n",
              "          await google.colab.output.renderOutput(dataTable, element);\n",
              "          const docLink = document.createElement('div');\n",
              "          docLink.innerHTML = docLinkHtml;\n",
              "          element.appendChild(docLink);\n",
              "        }\n",
              "      </script>\n",
              "    </div>\n",
              "  </div>\n",
              "  "
            ],
            "text/plain": [
              "                 X_i            M_1  ...          e_M_2          e_Y_i\n",
              "count  100000.000000  100000.000000  ...  100000.000000  100000.000000\n",
              "mean        0.001523       0.003372  ...      -0.005354       0.001368\n",
              "std         1.116959       1.193685  ...       0.997478       0.997490\n",
              "min        -5.023345      -6.065012  ...      -4.278671      -3.974191\n",
              "25%        -0.754404      -0.785283  ...      -0.674179      -0.670965\n",
              "50%         0.003791       0.001936  ...      -0.003598       0.004538\n",
              "75%         0.759114       0.796426  ...       0.662947       0.673895\n",
              "max         4.592644       5.583888  ...       4.471917       4.108962\n",
              "\n",
              "[8 rows x 11 columns]"
            ]
          },
          "metadata": {},
          "execution_count": 74
        }
      ]
    },
    {
      "cell_type": "code",
      "source": [
        "true_ace = 0.125\n",
        "\n",
        "effect = compute_causal_effect_with_front_door_criterion(data, G, \"X_i\", \"Y_i\")\n",
        "\n",
        "print(f\"Estimated ACE: {effect:.3}, Real ACE: {true_ace:.3}, Relative Error: {(np.abs(((effect - true_ace) / true_ace) * 100)):.4}%\")"
      ],
      "metadata": {
        "colab": {
          "base_uri": "https://localhost:8080/"
        },
        "outputId": "4cedbf30-e10c-434f-d12a-d8ce8cd535e6",
        "id": "HTlW7hAoppaB"
      },
      "execution_count": null,
      "outputs": [
        {
          "output_type": "stream",
          "name": "stdout",
          "text": [
            "adjustment set found:  {'M_2'}\n",
            "Estimated ACE: 0.127, Real ACE: 0.125, Relative Error: 1.58%\n"
          ]
        }
      ]
    }
  ]
}